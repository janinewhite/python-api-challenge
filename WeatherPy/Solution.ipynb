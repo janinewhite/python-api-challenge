{
 "cells": [
  {
   "cell_type": "code",
   "execution_count": 14,
   "metadata": {
    "ExecuteTime": {
     "end_time": "2019-09-29T23:22:51.709377Z",
     "start_time": "2019-09-29T23:22:51.703697Z"
    }
   },
   "outputs": [
    {
     "name": "stdout",
     "output_type": "stream",
     "text": [
      "500 cities will be found by searching up to 1500 coordinates between latitude -90 and 90, and longitude -180 and 180.\n",
      "The cities will be saved in ./output_data/cities.csv.\n"
     ]
    }
   ],
   "source": [
    "# Setup Dependencies and Constants\n",
    "\n",
    "# Dependencies\n",
    "import matplotlib.pyplot as plt\n",
    "import pandas as pd\n",
    "import numpy as np\n",
    "import requests\n",
    "import time\n",
    "from api_keys import api_key\n",
    "from citipy import citipy\n",
    "\n",
    "# Output File (CSV)\n",
    "output_data_file = \"output_data/cities.csv\"\n",
    "\n",
    "# Range of latitudes and longitudes\n",
    "lat_range = (-90, 90)\n",
    "lng_range = (-180, 180)\n",
    "random_coordinates = 1500\n",
    "total_cities = 500\n",
    "\n",
    "print(f\"{str(total_cities)} cities will be found by searching up to {str(random_coordinates)} coordinates\\\n",
    " between latitude {str(lat_range[0])} and {str(lat_range[1])}, and\\\n",
    " longitude {str(lng_range[0])} and {str(lng_range[1])}.\")\n",
    "print(f\"The cities will be saved in ./{output_data_file}.\")"
   ]
  },
  {
   "cell_type": "code",
   "execution_count": 26,
   "metadata": {
    "ExecuteTime": {
     "end_time": "2019-09-29T23:30:08.665855Z",
     "start_time": "2019-09-29T23:30:08.035509Z"
    }
   },
   "outputs": [
    {
     "name": "stdout",
     "output_type": "stream",
     "text": [
      "500 cities found\n"
     ]
    }
   ],
   "source": [
    "# Generate Cities List\n",
    "\n",
    "# Lists for holding lat_lngs and cities\n",
    "lat_lngs = []\n",
    "cities = []\n",
    "\n",
    "# Create a set of random lat and lng combinations\n",
    "lats = np.random.uniform(low=lat_range[0], high=lat_range[1], size=random_coordinates)\n",
    "lngs = np.random.uniform(low=lng_range[0], high=lng_range[1], size=random_coordinates)\n",
    "lat_lngs = zip(lats, lngs)\n",
    "\n",
    "# Identify nearest city for each lat, lng combination\n",
    "cities_found = 0\n",
    "for lat_lng in lat_lngs:\n",
    "    city = citipy.nearest_city(lat_lng[0], lat_lng[1]).city_name\n",
    "    \n",
    "    # If the city is unique, then add it to a our cities list\n",
    "    if city not in cities:\n",
    "        cities.append(city)\n",
    "        cities_found += 1\n",
    "        if cities_found == 500:\n",
    "            break\n",
    "\n",
    "# Print the city count to confirm sufficient count\n",
    "print(f\"{str(len(cities))} cities found\")"
   ]
  },
  {
   "cell_type": "code",
   "execution_count": 20,
   "metadata": {
    "ExecuteTime": {
     "end_time": "2019-09-29T23:26:59.305320Z",
     "start_time": "2019-09-29T23:26:58.603197Z"
    }
   },
   "outputs": [
    {
     "data": {
      "text/plain": [
       "500"
      ]
     },
     "execution_count": 20,
     "metadata": {},
     "output_type": "execute_result"
    }
   ],
   "source": []
  },
  {
   "cell_type": "code",
   "execution_count": null,
   "metadata": {},
   "outputs": [],
   "source": []
  }
 ],
 "metadata": {
  "kernelspec": {
   "display_name": "Python 3",
   "language": "python",
   "name": "python3"
  },
  "language_info": {
   "codemirror_mode": {
    "name": "ipython",
    "version": 3
   },
   "file_extension": ".py",
   "mimetype": "text/x-python",
   "name": "python",
   "nbconvert_exporter": "python",
   "pygments_lexer": "ipython3",
   "version": "3.7.3"
  },
  "varInspector": {
   "cols": {
    "lenName": 16,
    "lenType": 16,
    "lenVar": 40
   },
   "kernels_config": {
    "python": {
     "delete_cmd_postfix": "",
     "delete_cmd_prefix": "del ",
     "library": "var_list.py",
     "varRefreshCmd": "print(var_dic_list())"
    },
    "r": {
     "delete_cmd_postfix": ") ",
     "delete_cmd_prefix": "rm(",
     "library": "var_list.r",
     "varRefreshCmd": "cat(var_dic_list()) "
    }
   },
   "types_to_exclude": [
    "module",
    "function",
    "builtin_function_or_method",
    "instance",
    "_Feature"
   ],
   "window_display": false
  }
 },
 "nbformat": 4,
 "nbformat_minor": 2
}
