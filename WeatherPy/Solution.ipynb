{
 "cells": [
  {
   "cell_type": "code",
   "execution_count": 71,
   "metadata": {
    "ExecuteTime": {
     "end_time": "2019-09-30T01:47:20.595904Z",
     "start_time": "2019-09-30T01:47:20.578534Z"
    }
   },
   "outputs": [
    {
     "name": "stdout",
     "output_type": "stream",
     "text": [
      "500 cities will be found by searching up to 1500 coordinates between latitude -90 and 90, and longitude -180 and 180.\n",
      "The cities will be saved to: ./output_data/cities.csv\n",
      "Weather will be returned from http://api.openweathermap.org/data/2.5/weather?q=<city>&appid=api_key&units=Imperial\n"
     ]
    }
   ],
   "source": [
    "# Setup Dependencies and Constants\n",
    "\n",
    "# Dependencies\n",
    "import matplotlib.pyplot as plt\n",
    "import pandas as pd\n",
    "import numpy as np\n",
    "import requests\n",
    "import time\n",
    "from api_keys import api_key\n",
    "from citipy import citipy\n",
    "\n",
    "# Output File (CSV)\n",
    "output_folder = \"output_data\"\n",
    "output_filename = \"cities\"\n",
    "output_file_type = \"csv\"\n",
    "output_file = f\"{output_folder}/{output_filename}.{output_file_type}\"\n",
    "\n",
    "# Range of latitudes and longitudes\n",
    "lat_range = (-90, 90)\n",
    "lng_range = (-180, 180)\n",
    "random_coordinates = 1500\n",
    "total_cities = 500\n",
    "\n",
    "# Weather API URL\n",
    "url_stem = \"http://api.openweathermap.org/data/2.5/weather?q=\"\n",
    "\n",
    "print(f\"{str(total_cities)} cities will be found by searching up to {str(random_coordinates)} coordinates\\\n",
    " between latitude {str(lat_range[0])} and {str(lat_range[1])}, and\\\n",
    " longitude {str(lng_range[0])} and {str(lng_range[1])}.\")\n",
    "print(f\"The cities will be saved to: ./{output_file}\")\n",
    "print(f\"Weather will be returned from {url_stem}<city>&appid=api_key&units=Imperial\")"
   ]
  },
  {
   "cell_type": "code",
   "execution_count": 73,
   "metadata": {
    "ExecuteTime": {
     "end_time": "2019-09-30T01:53:32.329190Z",
     "start_time": "2019-09-30T01:53:29.283756Z"
    }
   },
   "outputs": [
    {
     "name": "stdout",
     "output_type": "stream",
     "text": [
      "637 cities found\n"
     ]
    }
   ],
   "source": [
    "# Generate Cities List\n",
    "\n",
    "# Lists for holding lat_lngs and cities\n",
    "lat_lngs = []\n",
    "cities = []\n",
    "\n",
    "# Create a set of random lat and lng combinations\n",
    "lats = np.random.uniform(low=lat_range[0], high=lat_range[1], size=random_coordinates)\n",
    "lngs = np.random.uniform(low=lng_range[0], high=lng_range[1], size=random_coordinates)\n",
    "lat_lngs = zip(lats, lngs)\n",
    "\n",
    "# Identify nearest city for each lat, lng combination\n",
    "for lat_lng in lat_lngs:\n",
    "    city = citipy.nearest_city(lat_lng[0], lat_lng[1]).city_name\n",
    "    \n",
    "    # If the city is unique, then add it to a our cities list\n",
    "    if city not in cities:\n",
    "        cities.append(city)\n",
    "\n",
    "# Print the city count to confirm sufficient count\n",
    "total_cities = len(cities)\n",
    "print(f\"{str(total_cities)} cities found\")"
   ]
  },
  {
   "cell_type": "code",
   "execution_count": 74,
   "metadata": {
    "ExecuteTime": {
     "end_time": "2019-09-30T01:53:37.307137Z",
     "start_time": "2019-09-30T01:53:37.284134Z"
    }
   },
   "outputs": [],
   "source": [
    "# Get Weather for a City\n",
    "\n",
    "def print_weather(city_weather,city_number):\n",
    "    city = dict(city_weather)\n",
    "    print(f\"City Weather #{str(city_number)} {city['city']} ({city['latitude']},{city['longitude']}): {city['temperature']}F {str(city['humidity'])}% Humidity {str(city['cloudiness'])}% Cloudy {str(city['wind speed'])} mph Wind\")\n",
    "    \n",
    "def get_city_weather(city):\n",
    "    url = f\"{url_stem}{city}&appid={api_key}&units=Imperial\"\n",
    "    weather_response = requests.get(url)\n",
    "    weather = weather_response.json()\n",
    "    latitude = weather[\"coord\"][\"lat\"]\n",
    "    longitude = weather[\"coord\"][\"lon\"]\n",
    "    temperature = weather[\"main\"][\"temp\"]\n",
    "    humidity = weather[\"main\"][\"humidity\"]\n",
    "    cloudiness = weather[\"clouds\"][\"all\"]\n",
    "    wind_speed = weather[\"wind\"][\"speed\"]\n",
    "    return {\"city\":city,\n",
    "            \"latitude\":latitude,\n",
    "            \"longitude\":longitude,\n",
    "            \"temperature\":temperature,\n",
    "            \"humidity\":humidity,\n",
    "            \"cloudiness\":cloudiness,\n",
    "            \"wind speed\":wind_speed}"
   ]
  },
  {
   "cell_type": "code",
   "execution_count": null,
   "metadata": {
    "ExecuteTime": {
     "start_time": "2019-09-30T01:57:57.717Z"
    },
    "code_folding": []
   },
   "outputs": [
    {
     "name": "stdout",
     "output_type": "stream",
     "text": [
      "City Weather #0 broome (52.47,1.45): 52.36F 93% Humidity 56% Cloudy 11.41 mph Wind\n",
      "City Weather #1 albany (42.65,-73.75): 48.42F 66% Humidity 1% Cloudy 4.45 mph Wind\n",
      "City Weather #2 busselton (-33.64,115.35): 67.46F 51% Humidity 0% Cloudy 12.88 mph Wind\n",
      "City Weather #3 cape town (-33.93,18.42): 55.51F 87% Humidity 20% Cloudy 5.82 mph Wind\n",
      "Skipping cities[city_num])\n",
      "City Weather #5 bluff (-23.58,149.07): 88.97F 23% Humidity 0% Cloudy 3.53 mph Wind\n",
      "City Weather #6 lethem (3.38,-59.8): 80.15F 75% Humidity 63% Cloudy 3.98 mph Wind\n",
      "City Weather #7 dashitou (43.3,128.5): 74.57F 48% Humidity 0% Cloudy 7.27 mph Wind\n",
      "City Weather #8 east london (-33.02,27.91): 55.13F 80% Humidity 99% Cloudy 13.62 mph Wind\n",
      "City Weather #9 rikitea (-23.12,-134.97): 70.79F 71% Humidity 81% Cloudy 10.4 mph Wind\n",
      "City Weather #10 laguna (16.17,-88.94): 82.4F 83% Humidity 40% Cloudy 1.79 mph Wind\n",
      "City Weather #11 vaini (15.34,74.49): 69.8F 94% Humidity 40% Cloudy 1.83 mph Wind\n",
      "City Weather #12 vila franca do campo (37.72,-25.43): 72.14F 88% Humidity 75% Cloudy 17.22 mph Wind\n",
      "City Weather #13 kuppam (12.75,78.34): 81F 67% Humidity 100% Cloudy 4.99 mph Wind\n",
      "Skipping cities[city_num])\n",
      "City Weather #15 hithadhoo (-0.6,73.08): 81.95F 72% Humidity 2% Cloudy 9.75 mph Wind\n",
      "Skipping cities[city_num])\n",
      "City Weather #17 saint-philippe (45.36,-73.48): 44.98F 93% Humidity 1% Cloudy 4.12 mph Wind\n",
      "City Weather #18 atuona (-9.8,-139.03): 79.25F 80% Humidity 21% Cloudy 20.27 mph Wind\n",
      "Skipping cities[city_num])\n",
      "City Weather #20 husavik (50.56,-96.99): 41.58F 98% Humidity 100% Cloudy 3 mph Wind\n",
      "Skipping cities[city_num])\n",
      "Skipping cities[city_num])\n",
      "City Weather #23 hilo (19.71,-155.08): 76.51F 58% Humidity 20% Cloudy 10.29 mph Wind\n",
      "City Weather #24 vila velha (-3.71,-38.6): 78.8F 74% Humidity 40% Cloudy 9.17 mph Wind\n",
      "City Weather #25 qaanaaq (77.48,-69.36): 30.65F 67% Humidity 91% Cloudy 9.82 mph Wind\n",
      "City Weather #26 mangai (-4.07,19.59): 69.53F 98% Humidity 100% Cloudy 0.76 mph Wind\n",
      "City Weather #27 ushuaia (-54.81,-68.31): 32F 96% Humidity 75% Cloudy 12.75 mph Wind\n",
      "City Weather #28 okhotsk (59.36,143.24): 42.71F 49% Humidity 0% Cloudy 20.22 mph Wind\n",
      "City Weather #29 bredasdorp (-34.53,20.04): 51.13F 87% Humidity 51% Cloudy 6.93 mph Wind\n",
      "City Weather #30 ahipara (-35.17,173.16): 59.09F 85% Humidity 0% Cloudy 18.43 mph Wind\n",
      "City Weather #31 westport (41.14,-73.36): 61.95F 55% Humidity 1% Cloudy 6.93 mph Wind\n",
      "City Weather #32 acacoyagua (15.34,-92.68): 78.8F 94% Humidity 90% Cloudy 4.47 mph Wind\n",
      "City Weather #33 tessalit (20.2,1.01): 85.55F 13% Humidity 0% Cloudy 10.96 mph Wind\n",
      "City Weather #34 kapaa (22.08,-159.32): 86.36F 58% Humidity 75% Cloudy 17.22 mph Wind\n",
      "City Weather #35 adrar (27.87,-0.29): 87.8F 11% Humidity 8% Cloudy 8.05 mph Wind\n",
      "City Weather #36 ozernovskiy (51.5,156.52): 45.23F 98% Humidity 100% Cloudy 6.08 mph Wind\n",
      "City Weather #37 tuktoyaktuk (69.44,-133.03): 41.27F 73% Humidity 94% Cloudy 11.14 mph Wind\n",
      "City Weather #38 mataura (-46.19,168.86): 48.99F 72% Humidity 70% Cloudy 15.01 mph Wind\n",
      "City Weather #39 katsuura (33.93,134.5): 81.34F 74% Humidity 75% Cloudy 9.17 mph Wind\n",
      "City Weather #40 cherskiy (68.75,161.3): 32.27F 69% Humidity 100% Cloudy 4.45 mph Wind\n",
      "City Weather #41 butaritari (3.07,172.79): 84.83F 64% Humidity 44% Cloudy 6.98 mph Wind\n",
      "Skipping cities[city_num])\n",
      "City Weather #43 lompoc (34.64,-120.46): 59.97F 38% Humidity 1% Cloudy 8.05 mph Wind\n",
      "City Weather #44 provideniya (64.42,-173.23): 46.4F 81% Humidity 75% Cloudy 4.47 mph Wind\n",
      "City Weather #45 brae (60.4,-1.35): 46.4F 87% Humidity 100% Cloudy 14.99 mph Wind\n",
      "City Weather #46 honolulu (21.3,-157.86): 85.87F 65% Humidity 90% Cloudy 13.87 mph Wind\n",
      "City Weather #47 mahebourg (-20.41,57.7): 69.37F 88% Humidity 40% Cloudy 3.36 mph Wind\n",
      "City Weather #48 ganzhou (25.86,114.93): 85.55F 36% Humidity 0% Cloudy 7.67 mph Wind\n",
      "City Weather #49 esmeraldas (-19.76,-44.31): 66.2F 82% Humidity 0% Cloudy 13.87 mph Wind\n",
      "City Weather #50 riachao do jacuipe (-11.81,-39.39): 69.89F 88% Humidity 3% Cloudy 4.52 mph Wind\n",
      "City Weather #51 upernavik (72.79,-56.15): 40.55F 60% Humidity 90% Cloudy 8.68 mph Wind\n",
      "Skipping cities[city_num])\n",
      "City Weather #53 punta arenas (-53.16,-70.91): 37.2F 55% Humidity 40% Cloudy 19.46 mph Wind\n",
      "City Weather #54 general roca (-39.03,-67.58): 64.4F 27% Humidity 0% Cloudy 11.41 mph Wind\n",
      "Skipping cities[city_num])\n",
      "City Weather #56 upington (-28.46,21.24): 57.2F 54% Humidity 0% Cloudy 12.75 mph Wind\n",
      "City Weather #57 nanortalik (60.14,-45.24): 38.57F 91% Humidity 18% Cloudy 0.36 mph Wind\n",
      "City Weather #58 arandis (-22.42,14.98): 63F 87% Humidity 0% Cloudy 5.99 mph Wind\n",
      "Skipping cities[city_num])\n",
      "City Weather #60 baykit (61.68,96.39): 31.37F 65% Humidity 72% Cloudy 0.85 mph Wind\n",
      "City Weather #61 clyde river (70.47,-68.59): 35.6F 100% Humidity 90% Cloudy 9.17 mph Wind\n",
      "City Weather #62 tiksi (71.64,128.87): 27.95F 76% Humidity 77% Cloudy 6.04 mph Wind\n",
      "City Weather #63 palmer (-34.85,139.16): 63.79F 45% Humidity 20% Cloudy 9.17 mph Wind\n",
      "City Weather #64 saldanha (41.42,-6.55): 61.07F 91% Humidity 0% Cloudy 1.54 mph Wind\n",
      "City Weather #65 hobart (-42.88,147.33): 54.64F 45% Humidity 40% Cloudy 13.87 mph Wind\n",
      "City Weather #66 port elizabeth (39.31,-74.98): 69.39F 73% Humidity 1% Cloudy 3.36 mph Wind\n",
      "City Weather #67 tuatapere (-46.13,167.69): 48.99F 72% Humidity 86% Cloudy 15.01 mph Wind\n",
      "Skipping cities[city_num])\n",
      "City Weather #69 barrow (-38.31,-60.23): 58.37F 98% Humidity 99% Cloudy 3.89 mph Wind\n",
      "City Weather #70 kavieng (-2.57,150.8): 82.67F 70% Humidity 54% Cloudy 5.12 mph Wind\n",
      "City Weather #71 rosetta (31.4,30.42): 75.2F 64% Humidity 0% Cloudy 9.17 mph Wind\n",
      "Skipping cities[city_num])\n",
      "Skipping cities[city_num])\n",
      "City Weather #74 pregradnaya (43.95,41.19): 43.79F 71% Humidity 73% Cloudy 4.5 mph Wind\n",
      "City Weather #75 puerto madryn (-42.77,-65.04): 57.29F 27% Humidity 98% Cloudy 8.23 mph Wind\n",
      "City Weather #76 mana (13.03,5.27): 80.69F 68% Humidity 100% Cloudy 13.69 mph Wind\n",
      "Skipping cities[city_num])\n",
      "City Weather #78 narsaq (60.91,-46.05): 53.6F 25% Humidity 40% Cloudy 19.46 mph Wind\n",
      "Skipping cities[city_num])\n",
      "City Weather #80 manokwari (-0.87,134.08): 79.61F 72% Humidity 32% Cloudy 5.19 mph Wind\n",
      "City Weather #81 new norfolk (-42.78,147.06): 54.93F 45% Humidity 40% Cloudy 13.87 mph Wind\n",
      "City Weather #82 iqaluit (63.75,-68.52): 37F 93% Humidity 100% Cloudy 5.99 mph Wind\n",
      "City Weather #83 nadym (65.53,72.51): 32.63F 77% Humidity 93% Cloudy 14.05 mph Wind\n",
      "City Weather #84 kaitangata (-46.28,169.85): 50F 56% Humidity 35% Cloudy 10 mph Wind\n",
      "City Weather #85 isiro (2.77,27.62): 64.31F 99% Humidity 100% Cloudy 1.95 mph Wind\n",
      "City Weather #86 hermanus (-34.42,19.24): 54.77F 97% Humidity 32% Cloudy 4.36 mph Wind\n",
      "City Weather #87 merauke (-8.49,140.4): 79.25F 86% Humidity 52% Cloudy 21.5 mph Wind\n",
      "City Weather #88 airai (-8.93,125.41): 85.91F 47% Humidity 0% Cloudy 6.46 mph Wind\n",
      "City Weather #89 saint-louis (16.03,-16.5): 79.79F 83% Humidity 0% Cloudy 9.86 mph Wind\n",
      "City Weather #90 castro (-42.48,-73.76): 41F 86% Humidity 75% Cloudy 11.41 mph Wind\n",
      "City Weather #91 chokurdakh (70.62,147.9): 28.31F 85% Humidity 100% Cloudy 7.81 mph Wind\n",
      "City Weather #92 antibes (43.58,7.11): 69.15F 77% Humidity 0% Cloudy 9.17 mph Wind\n",
      "City Weather #93 lufilufi (-13.87,-171.6): 84F 70% Humidity 56% Cloudy 18.37 mph Wind\n",
      "City Weather #94 bethel (60.79,-161.76): 51.8F 71% Humidity 75% Cloudy 19.46 mph Wind\n",
      "City Weather #95 nikolskoye (59.7,30.79): 50.94F 87% Humidity 75% Cloudy 4.47 mph Wind\n",
      "City Weather #96 nishihara (35.74,139.53): 81.99F 83% Humidity 75% Cloudy 4.7 mph Wind\n",
      "City Weather #97 valladolid (41.65,-4.73): 60.19F 81% Humidity 0% Cloudy 1.01 mph Wind\n",
      "Skipping cities[city_num])\n",
      "City Weather #99 rabo de peixe (37.8,-25.58): 72.12F 88% Humidity 75% Cloudy 17.22 mph Wind\n",
      "City Weather #100 las vegas (36.17,-115.15): 71.71F 9% Humidity 1% Cloudy 12.75 mph Wind\n",
      "City Weather #101 astaneh-ye ashrafiyeh (37.26,49.94): 66.2F 100% Humidity 90% Cloudy 7.27 mph Wind\n",
      "City Weather #102 longyearbyen (78.22,15.63): 33.8F 64% Humidity 75% Cloudy 17.22 mph Wind\n",
      "Skipping cities[city_num])\n",
      "City Weather #104 sitka (37.17,-99.65): 80.51F 64% Humidity 0% Cloudy 15.01 mph Wind\n",
      "City Weather #105 yellowknife (62.45,-114.38): 44.01F 56% Humidity 46% Cloudy 10 mph Wind\n",
      "City Weather #106 avarua (-21.21,-159.78): 75.2F 57% Humidity 95% Cloudy 12.75 mph Wind\n"
     ]
    },
    {
     "name": "stdout",
     "output_type": "stream",
     "text": [
      "City Weather #107 port lincoln (-34.72,135.86): 56.03F 76% Humidity 0% Cloudy 18.7 mph Wind\n",
      "City Weather #108 avera (33.19,-82.53): 77.45F 69% Humidity 1% Cloudy 2.24 mph Wind\n",
      "City Weather #109 pacifica (37.61,-122.49): 58.57F 87% Humidity 20% Cloudy 6.93 mph Wind\n",
      "City Weather #110 ilulissat (69.22,-51.1): 41F 56% Humidity 11% Cloudy 4.7 mph Wind\n",
      "City Weather #111 carnarvon (-30.97,22.13): 43.79F 70% Humidity 75% Cloudy 19.08 mph Wind\n",
      "City Weather #112 grindavik (63.84,-22.43): 39.63F 93% Humidity 40% Cloudy 2.24 mph Wind\n",
      "City Weather #113 dikson (73.51,80.55): 30.47F 81% Humidity 98% Cloudy 7.47 mph Wind\n",
      "City Weather #114 san cristobal (14.68,-86.92): 68.09F 90% Humidity 27% Cloudy 2.84 mph Wind\n",
      "City Weather #115 pointe michel (15.25,-61.38): 79.97F 71% Humidity 0% Cloudy 5.75 mph Wind\n",
      "City Weather #116 saint george (39.45,22.34): 59.97F 93% Humidity 0% Cloudy 1.43 mph Wind\n",
      "City Weather #117 kupang (-10.16,123.6): 87.8F 43% Humidity 20% Cloudy 13.87 mph Wind\n",
      "City Weather #118 san quintin (17.54,120.52): 83.03F 78% Humidity 53% Cloudy 12.24 mph Wind\n",
      "Skipping cities[city_num])\n",
      "City Weather #120 kieta (-6.22,155.63): 85.19F 65% Humidity 99% Cloudy 7.54 mph Wind\n",
      "City Weather #121 tasiilaq (65.61,-37.64): 39.2F 60% Humidity 10% Cloudy 2.17 mph Wind\n",
      "City Weather #122 hasaki (35.73,140.83): 81.59F 57% Humidity 75% Cloudy 14.99 mph Wind\n",
      "City Weather #123 matagami (9.67,8.4): 68.45F 95% Humidity 100% Cloudy 1.07 mph Wind\n",
      "City Weather #124 anjozorobe (-18.4,47.88): 62.6F 93% Humidity 20% Cloudy 4.7 mph Wind\n",
      "City Weather #125 garden city (43.62,-116.24): 47.26F 39% Humidity 75% Cloudy 3.71 mph Wind\n",
      "City Weather #126 port alfred (-33.59,26.89): 60.01F 87% Humidity 68% Cloudy 7 mph Wind\n",
      "City Weather #127 thompson (55.74,-97.86): 29.03F 73% Humidity 64% Cloudy 2.44 mph Wind\n",
      "City Weather #128 aripuana (-9.17,-60.63): 73.49F 88% Humidity 93% Cloudy 1.57 mph Wind\n",
      "City Weather #129 pundaguitan (6.37,126.17): 83.21F 73% Humidity 100% Cloudy 10.96 mph Wind\n",
      "City Weather #130 tombouctou (16.77,-3.01): 91.85F 13% Humidity 0% Cloudy 6.73 mph Wind\n",
      "City Weather #131 olindina (-11.36,-38.33): 67.37F 95% Humidity 0% Cloudy 7.61 mph Wind\n",
      "City Weather #132 grand gaube (-20.01,57.66): 69.46F 88% Humidity 40% Cloudy 3.36 mph Wind\n",
      "Skipping cities[city_num])\n",
      "City Weather #134 eydhafushi (5.1,73.07): 79.97F 74% Humidity 97% Cloudy 4.36 mph Wind\n",
      "City Weather #135 kawalu (-7.38,108.21): 78.17F 62% Humidity 50% Cloudy 6.87 mph Wind\n",
      "City Weather #136 northam (-31.65,116.67): 66.2F 82% Humidity 40% Cloudy 3.36 mph Wind\n",
      "City Weather #137 erzin (36.95,36.2): 69.26F 88% Humidity 0% Cloudy 3.36 mph Wind\n",
      "City Weather #138 huarmey (-10.07,-78.15): 61.07F 91% Humidity 0% Cloudy 14.41 mph Wind\n",
      "Skipping cities[city_num])\n",
      "City Weather #140 glace bay (46.2,-59.96): 48.13F 69% Humidity 71% Cloudy 8.01 mph Wind\n",
      "City Weather #141 benjamin aceval (-24.97,-57.57): 84.2F 39% Humidity 0% Cloudy 4.7 mph Wind\n",
      "City Weather #142 cabo san lucas (22.89,-109.91): 78.21F 73% Humidity 75% Cloudy 17.22 mph Wind\n",
      "City Weather #143 margate (-43.03,147.26): 54.93F 45% Humidity 40% Cloudy 13.87 mph Wind\n",
      "City Weather #144 harbour breton (47.48,-55.8): 51.53F 73% Humidity 10% Cloudy 22.91 mph Wind\n",
      "City Weather #145 waingapu (-9.65,120.26): 87.35F 37% Humidity 0% Cloudy 14.54 mph Wind\n",
      "City Weather #146 torbay (47.66,-52.73): 52.29F 90% Humidity 12% Cloudy 10 mph Wind\n"
     ]
    }
   ],
   "source": [
    "# Initialize dataframe\n",
    "city_num = 0\n",
    "city_data = get_city_weather(cities[city_num])\n",
    "print_weather(city_data,city_num)\n",
    "citydf = pd.DataFrame(city_data,index=[city_num])\n",
    "# Add additional cities\n",
    "for city_num in range(1,total_cities):\n",
    "    try:\n",
    "        city_data = get_city_weather(cities[city_num])\n",
    "        print_weather(city_data,city_num)\n",
    "        citydf = citydf.append(pd.DataFrame(city_data,index=[city_num]))\n",
    "    except:\n",
    "        print(f\"Skipping {cities[city_num]})\")\n",
    "print(f\"Weather for {str(len(citydf))} cities retrieved.\")\n",
    "citydf.to_csv(f\"{output_file}\")\n",
    "citydf.head()"
   ]
  },
  {
   "cell_type": "code",
   "execution_count": null,
   "metadata": {},
   "outputs": [],
   "source": []
  }
 ],
 "metadata": {
  "kernelspec": {
   "display_name": "Python 3",
   "language": "python",
   "name": "python3"
  },
  "language_info": {
   "codemirror_mode": {
    "name": "ipython",
    "version": 3
   },
   "file_extension": ".py",
   "mimetype": "text/x-python",
   "name": "python",
   "nbconvert_exporter": "python",
   "pygments_lexer": "ipython3",
   "version": "3.7.3"
  },
  "varInspector": {
   "cols": {
    "lenName": 16,
    "lenType": 16,
    "lenVar": 40
   },
   "kernels_config": {
    "python": {
     "delete_cmd_postfix": "",
     "delete_cmd_prefix": "del ",
     "library": "var_list.py",
     "varRefreshCmd": "print(var_dic_list())"
    },
    "r": {
     "delete_cmd_postfix": ") ",
     "delete_cmd_prefix": "rm(",
     "library": "var_list.r",
     "varRefreshCmd": "cat(var_dic_list()) "
    }
   },
   "types_to_exclude": [
    "module",
    "function",
    "builtin_function_or_method",
    "instance",
    "_Feature"
   ],
   "window_display": false
  }
 },
 "nbformat": 4,
 "nbformat_minor": 2
}
